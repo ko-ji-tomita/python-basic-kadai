{
  "nbformat": 4,
  "nbformat_minor": 0,
  "metadata": {
    "colab": {
      "provenance": []
    },
    "kernelspec": {
      "name": "python3",
      "display_name": "Python 3"
    },
    "language_info": {
      "name": "python"
    }
  },
  "cells": [
    {
      "cell_type": "code",
      "execution_count": null,
      "metadata": {
        "id": "yNXUhyTrMeDK"
      },
      "outputs": [],
      "source": [
        "#グローバルスコープ活用\n",
        "price1 = 100\n",
        "price2 = 200\n",
        "tax = 1.1\n",
        "\n",
        "def total():\n",
        "    tax = 1.1\n",
        "    return price1 + price2\n",
        "\n",
        "print (total() * tax)  #グローバル変数のtaxを使って計算"
      ]
    },
    {
      "cell_type": "code",
      "source": [
        "#ローカルスコープ活用\n",
        "price1 = 100\n",
        "price2 = 200\n",
        "\n",
        "def total():\n",
        "    tax = 1.1  #ローカルスコープ内でtaxを定義\n",
        "    return price1 + price2\n",
        "\n",
        "print (total())  #計算出力"
      ],
      "metadata": {
        "id": "qoXxY_nLMgYi"
      },
      "execution_count": null,
      "outputs": []
    }
  ]
}
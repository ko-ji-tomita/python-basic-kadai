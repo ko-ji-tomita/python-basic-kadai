{
  "nbformat": 4,
  "nbformat_minor": 0,
  "metadata": {
    "colab": {
      "provenance": []
    },
    "kernelspec": {
      "name": "python3",
      "display_name": "Python 3"
    },
    "language_info": {
      "name": "python"
    }
  },
  "cells": [
    {
      "cell_type": "code",
      "execution_count": 1,
      "metadata": {
        "id": "RPV_80UCNnUe",
        "outputId": "83135214-85f8-4160-d6d5-97e03b9b4337",
        "colab": {
          "base_uri": "https://localhost:8080/"
        }
      },
      "outputs": [
        {
          "output_type": "stream",
          "name": "stdout",
          "text": [
            "大人です\n",
            "大人ではない\n",
            "大人です\n",
            "大人です\n"
          ]
        }
      ],
      "source": [
        "adult_age = 20\n",
        "#クラス作成\n",
        "class Human:\n",
        "  def __init__(self, name, age):\n",
        "    self.name = name\n",
        "    self.age = age\n",
        "\n",
        "  #check_adultメソッドを定義\n",
        "  def check_adult(self):\n",
        "\n",
        "  #年齢の条件分岐\n",
        "    if self.age >= adult_age:\n",
        "      print(\"大人です\")  #20歳より年上であれば \"大人\"\n",
        "    else:\n",
        "      print(\"大人ではない\")  #20歳未満であれば \"未成年\"\n",
        "\n",
        "\n",
        "#インスタンスを作成\n",
        "human1 = Human(\"コージ\", 34)\n",
        "human2 = Human(\"ショージ\", 19)\n",
        "human3 = Human(\"ジョージ\", 25)\n",
        "human4 = Human(\"ユージ\", 40)\n",
        "\n",
        "for human in [human1, human2, human3, human4]:\n",
        "  human.check_adult()"
      ]
    }
  ]
}
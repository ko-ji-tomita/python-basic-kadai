{
  "nbformat": 4,
  "nbformat_minor": 0,
  "metadata": {
    "colab": {
      "provenance": []
    },
    "kernelspec": {
      "name": "python3",
      "display_name": "Python 3"
    },
    "language_info": {
      "name": "python"
    }
  },
  "cells": [
    {
      "cell_type": "code",
      "execution_count": 2,
      "metadata": {
        "colab": {
          "base_uri": "https://localhost:8080/",
          "height": 210
        },
        "id": "SucmPEZqhXa2",
        "outputId": "5afe13db-adc3-4946-9ae0-16e12335e33a"
      },
      "outputs": [
        {
          "output_type": "error",
          "ename": "NameError",
          "evalue": "name 'user_name' is not defined",
          "traceback": [
            "\u001b[0;31m---------------------------------------------------------------------------\u001b[0m",
            "\u001b[0;31mNameError\u001b[0m                                 Traceback (most recent call last)",
            "\u001b[0;32m<ipython-input-2-92c96f06e314>\u001b[0m in \u001b[0;36m<cell line: 8>\u001b[0;34m()\u001b[0m\n\u001b[1;32m      6\u001b[0m \u001b[0;34m\u001b[0m\u001b[0m\n\u001b[1;32m      7\u001b[0m \u001b[0mHuman\u001b[0m \u001b[0;34m=\u001b[0m\u001b[0;34m{\u001b[0m\u001b[0;36m1\u001b[0m\u001b[0;34m:\u001b[0m\u001b[0;34m\"名前\"\u001b[0m\u001b[0;34m,\u001b[0m \u001b[0;36m2\u001b[0m\u001b[0;34m:\u001b[0m\u001b[0;34m\"年齢\"\u001b[0m\u001b[0;34m}\u001b[0m\u001b[0;34m\u001b[0m\u001b[0;34m\u001b[0m\u001b[0m\n\u001b[0;32m----> 8\u001b[0;31m \u001b[0mprint\u001b[0m\u001b[0;34m(\u001b[0m\u001b[0muser_name\u001b[0m\u001b[0;34m)\u001b[0m\u001b[0;34m\u001b[0m\u001b[0;34m\u001b[0m\u001b[0m\n\u001b[0m\u001b[1;32m      9\u001b[0m \u001b[0;34m\u001b[0m\u001b[0m\n\u001b[1;32m     10\u001b[0m \u001b[0muser_name\u001b[0m \u001b[0;34m=\u001b[0m \u001b[0;34m\"コージ\"\u001b[0m\u001b[0;34m\u001b[0m\u001b[0;34m\u001b[0m\u001b[0m\n",
            "\u001b[0;31mNameError\u001b[0m: name 'user_name' is not defined"
          ]
        }
      ],
      "source": [
        "#ランダムな整数を利用するため宣言\n",
        "import random\n",
        "\n",
        "#変数numに１～10までのランダムな整数を代入する\n",
        "num = random.randint(1, 30)\n",
        "\n",
        "Human ={1:\"名前\", 2:\"年齢\"}\n",
        "print(user_name)\n",
        "\n",
        "user_name = \"コージ\"\n",
        "\n",
        "def show_user_name():\n",
        "  user_name = \"コージ\"\n",
        "\n",
        "#クラス作成\n",
        "class Human:\n",
        "  def __init__(self, name, age):\n",
        "    self.name = name\n",
        "    self.age = age\n",
        "\n",
        "  #check_adultメソッドを定義\n",
        "  def check_adult(self):\n",
        "    print(f\"名前:{self.name}, 年齢:{self.age}歳\")\n",
        "\n",
        "#インスタンスを作成\n",
        "adult = Human(\"コージ\",34)\n",
        "\n",
        "#1～30までの範囲を指定\n",
        "for num in range(1, 30):\n",
        "\n",
        "  #大人を20歳と定義\n",
        "  adult = 20\n",
        "\n",
        "  #年齢の条件分岐\n",
        "  if adult <= num:\n",
        "    print(\"大人です\")  #20歳より年上であれば \"大人\"\n",
        "  else:\n",
        "    print(\"未成年です\")  #20歳以下であれば \"未成年\"\n",
        "  #20歳が見つかれば強制終了とする\n",
        "  if num == 20:\n",
        "    print(\"20歳でしたので繰り返しを終了します\")\n",
        "    break\n",
        "\n",
        "#インスタンスを作成\n",
        "adult = Human(\"コージ\", 34)\n",
        "\n",
        "#ユーザー名と年齢を出力\n",
        "adult.check_adult() # name, \"コージ\" age:34 を出力"
      ]
    },
    {
      "cell_type": "code",
      "source": [
        "adult_age = 20\n",
        "#クラス作成\n",
        "class Human:\n",
        "  def __init__(self, name, age):\n",
        "    self.name = name\n",
        "    self.age = age\n",
        "\n",
        "  #check_adultメソッドを定義\n",
        "  def check_adult(self):\n",
        "\n",
        "  #年齢の条件分岐\n",
        "    if self.age >= adult_age:\n",
        "      print(\"大人です\")  #20歳より年上であれば \"大人\"\n",
        "    else:\n",
        "      print(\"大人ではない\")  #20歳未満であれば \"未成年\"\n",
        "\n",
        "\n",
        "#インスタンスを作成\n",
        "human1 = Human(\"コージ\", 34)\n",
        "human2 = Human(\"ショージ\", 19)\n",
        "human3 = Human(\"ジョージ\", 25)\n",
        "human4 = Human(\"ユージ\", 40)\n",
        "\n",
        "for human in [human1, human2, human3, human4]:\n",
        "  human.check_adult()\n",
        "\n"
      ],
      "metadata": {
        "colab": {
          "base_uri": "https://localhost:8080/"
        },
        "id": "jNX2CUj3iTOH",
        "outputId": "c8e78c3d-885b-45c2-ad3b-c8972c255986"
      },
      "execution_count": 4,
      "outputs": [
        {
          "output_type": "stream",
          "name": "stdout",
          "text": [
            "大人です\n",
            "大人ではない\n",
            "大人です\n",
            "大人です\n"
          ]
        }
      ]
    }
  ]
}
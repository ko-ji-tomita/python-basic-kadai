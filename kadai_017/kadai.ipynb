{
  "nbformat": 4,
  "nbformat_minor": 0,
  "metadata": {
    "colab": {
      "provenance": []
    },
    "kernelspec": {
      "name": "python3",
      "display_name": "Python 3"
    },
    "language_info": {
      "name": "python"
    }
  },
  "cells": [
    {
      "cell_type": "code",
      "execution_count": null,
      "metadata": {
        "id": "SucmPEZqhXa2"
      },
      "outputs": [],
      "source": [
        "#ランダムな整数を利用するため宣言\n",
        "import random\n",
        "\n",
        "#変数numに１～10までのランダムな整数を代入する\n",
        "num = random.randint(1, 30)\n",
        "\n",
        "Human ={1:\"名前\", 2:\"年齢\"}\n",
        "print(user_name)\n",
        "\n",
        "user_name = \"コージ\"\n",
        "\n",
        "def show_user_name():\n",
        "  user_name = \"コージ\"\n",
        "\n",
        "#クラス作成\n",
        "class Human:\n",
        "  def __init__(self, name, age):\n",
        "    self.name = name\n",
        "    self.age = age\n",
        "\n",
        "  #check_adultメソッドを定義\n",
        "  def check_adult(self):\n",
        "    print(f\"名前:{self.name}, 年齢:{self.age}歳\")\n",
        "\n",
        "#インスタンスを作成\n",
        "adult = Human(\"コージ\",34)\n",
        "\n",
        "#1～30までの範囲を指定\n",
        "for num in range(1, 30):\n",
        "\n",
        "  #大人を20歳と定義\n",
        "  adult = 20\n",
        "\n",
        "  #年齢の条件分岐\n",
        "  if adult <= num:\n",
        "    print(\"大人です\")  #20歳より年上であれば \"大人\"\n",
        "  else:\n",
        "    print(\"未成年です\")  #20歳以下であれば \"未成年\"\n",
        "  #20歳が見つかれば強制終了とする\n",
        "  if num == 20:\n",
        "    print(\"20歳でしたので繰り返しを終了します\")\n",
        "    break\n",
        "\n",
        "#インスタンスを作成\n",
        "adult = Human(\"コージ\", 34)\n",
        "\n",
        "#ユーザー名と年齢を出力\n",
        "adult.check_adult() # name, \"コージ\" age:34 を出力"
      ]
    }
  ]
}
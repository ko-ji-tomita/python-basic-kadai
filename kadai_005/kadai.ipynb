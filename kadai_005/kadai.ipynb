{
  "nbformat": 4,
  "nbformat_minor": 0,
  "metadata": {
    "colab": {
      "provenance": []
    },
    "kernelspec": {
      "name": "python3",
      "display_name": "Python 3"
    },
    "language_info": {
      "name": "python"
    }
  },
  "cells": [
    {
      "cell_type": "code",
      "execution_count": 1,
      "metadata": {
        "colab": {
          "base_uri": "https://localhost:8080/"
        },
        "id": "IQBnWTqKiqFA",
        "outputId": "ce185e0b-ed2f-4dbe-d7d9-36de1b0b9c31"
      },
      "outputs": [
        {
          "output_type": "stream",
          "name": "stdout",
          "text": [
            "台形の面積計算式 - (上辺10 + 下辺20) * 高さ5 / 2 =  75.0 ㎠\n"
          ]
        }
      ],
      "source": [
        "#課題 変数を使って四足演算をしよう\n",
        "#台形の面積を求める\n",
        "#上辺,下辺,高さを定義\n",
        "top_base = 10\n",
        "bottom_base = 20\n",
        "height = 5\n",
        "\n",
        "#台形の面積を計算する公式\n",
        "#面積 - (上辺 + 下辺) * 高さ / 2\n",
        "area = ((top_base + bottom_base) * height / 2)\n",
        "\n",
        "#計算結果出力\n",
        "print(f\"台形の面積計算式 - (上辺{top_base} + 下辺{bottom_base}) * 高さ{height} / 2 = \", area,\"㎠\")"
      ]
    }
  ]
}
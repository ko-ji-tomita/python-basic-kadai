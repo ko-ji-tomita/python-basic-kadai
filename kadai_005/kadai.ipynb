{
  "nbformat": 4,
  "nbformat_minor": 0,
  "metadata": {
    "colab": {
      "provenance": []
    },
    "kernelspec": {
      "name": "python3",
      "display_name": "Python 3"
    },
    "language_info": {
      "name": "python"
    }
  },
  "cells": [
    {
      "cell_type": "code",
      "execution_count": 2,
      "metadata": {
        "colab": {
          "base_uri": "https://localhost:8080/"
        },
        "id": "VSo-b6SEOrv8",
        "outputId": "7408ea32-d2a6-4120-ab3f-a6c97d9e2d6c"
      },
      "outputs": [
        {
          "output_type": "stream",
          "name": "stdout",
          "text": [
            "75.0 ㎠\n"
          ]
        }
      ],
      "source": [
        "#課題 変数を使って四足演算をしよう\n",
        "#台形の面積を求める\n",
        "#上辺,下辺,高さを定義\n",
        "top_base = 10\n",
        "bottom_base = 20\n",
        "height = 5\n",
        "\n",
        "#台形の面積を計算する公式\n",
        "#面積 - (上辺 + 下辺) * 高さ / 2\n",
        "area = ((top_base + bottom_base) * height / 2)\n",
        "\n",
        "#計算結果出力\n",
        "print(area,\"㎠\")"
      ]
    }
  ]
}
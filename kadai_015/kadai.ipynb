{
  "nbformat": 4,
  "nbformat_minor": 0,
  "metadata": {
    "colab": {
      "provenance": []
    },
    "kernelspec": {
      "name": "python3",
      "display_name": "Python 3"
    },
    "language_info": {
      "name": "python"
    }
  },
  "cells": [
    {
      "cell_type": "code",
      "execution_count": null,
      "metadata": {
        "id": "SEcJ1uDsg_hx"
      },
      "outputs": [],
      "source": [
        "#課題\n",
        "#クラスを定義\n",
        "class Human:\n",
        "  def __init__(self, name, age):\n",
        "    self.name = name\n",
        "    self.age = age\n",
        "\n",
        "#pritinfoメソッドを定義\n",
        "  def printinfo(self):\n",
        "    print(f\"名前は{self.name}, 年齢は{self.age}\")\n",
        "\n",
        "#インスタンスを作成\n",
        "ikeda = Human(\"コージ\", 34)\n",
        "\n",
        "#printinfo関数で出力\n",
        "ikeda.printinfo()  # name, \"コージ\" age:34 を出力"
      ]
    }
  ]
}
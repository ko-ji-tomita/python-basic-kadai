{
  "nbformat": 4,
  "nbformat_minor": 0,
  "metadata": {
    "colab": {
      "provenance": []
    },
    "kernelspec": {
      "name": "python3",
      "display_name": "Python 3"
    },
    "language_info": {
      "name": "python"
    }
  },
  "cells": [
    {
      "cell_type": "code",
      "source": [
        "#課題 繰り返し処理を使いこなそう for文\n",
        "array = [\"水\",\"金\",\"地\",\"火\",\"木\",\"土\",\"天\",\"海\",\"冥\"]\n",
        "\n",
        "index_cumulative = 1 #累積インデックスを1からスタート\n",
        "\n",
        "# 18回繰り返しループ\n",
        "for count in range(18):\n",
        "    value = array[count % len(array)]  #配列の要素をループさせる\n",
        "\n",
        "    print(f\"{index_cumulative}  {value}\")\n",
        "    index_cumulative += 1  #インデックスに1を加算\n"
      ],
      "metadata": {
        "colab": {
          "base_uri": "https://localhost:8080/"
        },
        "id": "rG3QROBSKRRA",
        "outputId": "96666a65-099e-446e-c5d9-fa4f285562a6"
      },
      "execution_count": 40,
      "outputs": [
        {
          "output_type": "stream",
          "name": "stdout",
          "text": [
            "1  水\n",
            "2  金\n",
            "3  地\n",
            "4  火\n",
            "5  木\n",
            "6  土\n",
            "7  天\n",
            "8  海\n",
            "9  冥\n",
            "10  水\n",
            "11  金\n",
            "12  地\n",
            "13  火\n",
            "14  木\n",
            "15  土\n",
            "16  天\n",
            "17  海\n",
            "18  冥\n"
          ]
        }
      ]
    },
    {
      "cell_type": "code",
      "source": [
        "#課題 繰り返し処理を使いこなそう while文\n",
        "array = [\"水\",\"金\",\"地\",\"火\",\"木\",\"土\",\"天\",\"海\",\"冥\"]\n",
        "\n",
        "index_cumulative = 1 #累積インデックスを1からスタート\n",
        "\n",
        "i = 1\n",
        "while i <= 18:\n",
        "    value = array[(i - 1) % len(array)]\n",
        "    print(f\"{index_cumulative}  {value}\")\n",
        "\n",
        "    index_cumulative += 1\n",
        "    i += 1\n"
      ],
      "metadata": {
        "colab": {
          "base_uri": "https://localhost:8080/"
        },
        "id": "wIrLoaqnb_jk",
        "outputId": "f12e1b12-1577-491c-d3ee-c9e238f1bfe9"
      },
      "execution_count": 41,
      "outputs": [
        {
          "output_type": "stream",
          "name": "stdout",
          "text": [
            "1  水\n",
            "2  金\n",
            "3  地\n",
            "4  火\n",
            "5  木\n",
            "6  土\n",
            "7  天\n",
            "8  海\n",
            "9  冥\n",
            "10  水\n",
            "11  金\n",
            "12  地\n",
            "13  火\n",
            "14  木\n",
            "15  土\n",
            "16  天\n",
            "17  海\n",
            "18  冥\n"
          ]
        }
      ]
    }
  ]
}
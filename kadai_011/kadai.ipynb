{
  "nbformat": 4,
  "nbformat_minor": 0,
  "metadata": {
    "colab": {
      "provenance": []
    },
    "kernelspec": {
      "name": "python3",
      "display_name": "Python 3"
    },
    "language_info": {
      "name": "python"
    }
  },
  "cells": [
    {
      "cell_type": "code",
      "execution_count": null,
      "metadata": {
        "id": "q6xOvx5beypT"
      },
      "outputs": [],
      "source": [
        "#課題 繰り返し処理を使いこなそう\n",
        "array = [\"水\",\"金\",\"地\",\"火\",\"木\",\"土\",\"天\",\"海\",\"冥\"]\n",
        "\n",
        "count = 0  #回数0からスタート\n",
        "index_cumulative = 1  #累積index1からスタート\n",
        "\n",
        "while count < 18:\n",
        "    for index, value in enumerate(array):\n",
        "      print(f\"{index_cumulative} {value}\")\n",
        "      count += 1\n",
        "      index_cumulative += 1\n",
        "\n",
        "    if count > 18:\n",
        "      print(f\"{index_cumulative} {value}\")\n",
        "      break  #18回超えたので強制終了"
      ]
    }
  ]
}
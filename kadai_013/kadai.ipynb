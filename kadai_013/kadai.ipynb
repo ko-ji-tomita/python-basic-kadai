{
  "nbformat": 4,
  "nbformat_minor": 0,
  "metadata": {
    "colab": {
      "provenance": []
    },
    "kernelspec": {
      "name": "python3",
      "display_name": "Python 3"
    },
    "language_info": {
      "name": "python"
    }
  },
  "cells": [
    {
      "cell_type": "code",
      "execution_count": 5,
      "metadata": {
        "colab": {
          "base_uri": "https://localhost:8080/"
        },
        "id": "Q3ce0f6z-J1M",
        "outputId": "a9680c43-41cf-45e9-a0be-3ed396effa9d"
      },
      "outputs": [
        {
          "output_type": "stream",
          "name": "stdout",
          "text": [
            "1100.0円\n"
          ]
        }
      ],
      "source": [
        "#商品に消費税を加えた関数を定義する\n",
        "def add_two_tax(price, tax):\n",
        "\n",
        "  #与えられた引数に消費税を加算する\n",
        "  total = price * (1 + tax / 100)\n",
        "\n",
        "  #計算結果を戻り値として返す\n",
        "  return total\n",
        "\n",
        "#関数を呼び出し、引数として購入金額と消費税を渡す\n",
        "result = add_two_tax(1000, 10)\n",
        "\n",
        "#戻り値を出力する\n",
        "print(f\"{result}円\")\n"
      ]
    }
  ]
}
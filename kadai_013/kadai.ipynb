{
  "nbformat": 4,
  "nbformat_minor": 0,
  "metadata": {
    "colab": {
      "provenance": []
    },
    "kernelspec": {
      "name": "python3",
      "display_name": "Python 3"
    },
    "language_info": {
      "name": "python"
    }
  },
  "cells": [
    {
      "cell_type": "code",
      "execution_count": 2,
      "metadata": {
        "colab": {
          "base_uri": "https://localhost:8080/"
        },
        "id": "Q3ce0f6z-J1M",
        "outputId": "8f27b4b1-42c0-4dc4-9f19-bb00c3a2c5ec"
      },
      "outputs": [
        {
          "output_type": "stream",
          "name": "stdout",
          "text": [
            "1100.0円\n"
          ]
        }
      ],
      "source": [
        "#商品に消費税を加えた関数を定義する\n",
        "def add_two_tax(price, tax):\n",
        "\n",
        "  #与えられた引数に消費税を加算する\n",
        "  total = price * (1 + tax / 100)\n",
        "\n",
        "  #変数totalの値を出力\n",
        "  print(f\"{total}円\")\n",
        "\n",
        "#関数を呼び出し、引数として購入金額と消費税を渡す\n",
        "add_two_tax(1000, 10)\n"
      ]
    }
  ]
}
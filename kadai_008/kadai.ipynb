{
  "nbformat": 4,
  "nbformat_minor": 0,
  "metadata": {
    "colab": {
      "provenance": []
    },
    "kernelspec": {
      "name": "python3",
      "display_name": "Python 3"
    },
    "language_info": {
      "name": "python"
    }
  },
  "cells": [
    {
      "cell_type": "code",
      "execution_count": 83,
      "metadata": {
        "colab": {
          "base_uri": "https://localhost:8080/"
        },
        "id": "KCPw-z2ZnvPJ",
        "outputId": "167ca1b3-f155-4454-8e8f-d03a82c52557"
      },
      "outputs": [
        {
          "output_type": "stream",
          "name": "stdout",
          "text": [
            "16\n",
            "16\n"
          ]
        }
      ],
      "source": [
        "#条件分岐のif文で処理を切り替えよう\n",
        "#ランダムな整数を利用するために、randomモジュールをインポート\n",
        "import random\n",
        "\n",
        "#変数numに0～100までのランダムな整数を代入する\n",
        "var = random.randint(1, 60)\n",
        "\n",
        "#変数を出力\n",
        "print(var)\n",
        "\n",
        "if var % 3 == 0 and var % 5 ==0:\n",
        "  print(\"FizzBuzz\") #変数varが3の倍数と5の倍数の両方に該当する場合は「FizzBuzz」と出力\n",
        "elif var % 3 ==0:\n",
        "  print(\"Fizz\") #変数varが3の倍数の場合は「Fizz」と出力\n",
        "elif var % 5 ==0:\n",
        "  print(\"Buzz\") #5の倍数の場合は「Buzz」と出力\n",
        "else:\n",
        "  print(var) #上記に該当しない場合は変数varの値を出力"
      ]
    }
  ]
}